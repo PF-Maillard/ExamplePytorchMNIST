{
  "cells": [
    {
      "cell_type": "code",
      "execution_count": 1,
      "metadata": {
        "id": "bGU6NwlsXFSt"
      },
      "outputs": [],
      "source": [
        "#Librairies for maths\n",
        "import numpy as np\n",
        "from matplotlib import pyplot as plt\n",
        "\n",
        "#Libraries for deep learning\n",
        "import torch\n",
        "import torch.nn as nn\n",
        "import torchvision.datasets as dsets\n",
        "import torchvision.transforms as transforms\n",
        "from torch.autograd import Variable"
      ]
    },
    {
      "cell_type": "code",
      "execution_count": 2,
      "metadata": {
        "colab": {
          "base_uri": "https://localhost:8080/"
        },
        "id": "lCsBCXMwbpH5",
        "outputId": "835bf270-644b-488d-cce3-59b42f16443c"
      },
      "outputs": [
        {
          "name": "stdout",
          "output_type": "stream",
          "text": [
            "Downloading http://yann.lecun.com/exdb/mnist/train-images-idx3-ubyte.gz\n",
            "Downloading http://yann.lecun.com/exdb/mnist/train-images-idx3-ubyte.gz to ./data/MNIST/raw/train-images-idx3-ubyte.gz\n"
          ]
        },
        {
          "name": "stderr",
          "output_type": "stream",
          "text": [
            "100%|██████████| 9912422/9912422 [00:00<00:00, 105432198.03it/s]\n"
          ]
        },
        {
          "name": "stdout",
          "output_type": "stream",
          "text": [
            "Extracting ./data/MNIST/raw/train-images-idx3-ubyte.gz to ./data/MNIST/raw\n",
            "\n",
            "Downloading http://yann.lecun.com/exdb/mnist/train-labels-idx1-ubyte.gz\n",
            "Downloading http://yann.lecun.com/exdb/mnist/train-labels-idx1-ubyte.gz to ./data/MNIST/raw/train-labels-idx1-ubyte.gz\n"
          ]
        },
        {
          "name": "stderr",
          "output_type": "stream",
          "text": [
            "100%|██████████| 28881/28881 [00:00<00:00, 80918967.15it/s]\n"
          ]
        },
        {
          "name": "stdout",
          "output_type": "stream",
          "text": [
            "Extracting ./data/MNIST/raw/train-labels-idx1-ubyte.gz to ./data/MNIST/raw\n",
            "\n",
            "Downloading http://yann.lecun.com/exdb/mnist/t10k-images-idx3-ubyte.gz\n",
            "Downloading http://yann.lecun.com/exdb/mnist/t10k-images-idx3-ubyte.gz to ./data/MNIST/raw/t10k-images-idx3-ubyte.gz\n"
          ]
        },
        {
          "name": "stderr",
          "output_type": "stream",
          "text": [
            "100%|██████████| 1648877/1648877 [00:00<00:00, 26374083.88it/s]\n"
          ]
        },
        {
          "name": "stdout",
          "output_type": "stream",
          "text": [
            "Extracting ./data/MNIST/raw/t10k-images-idx3-ubyte.gz to ./data/MNIST/raw\n",
            "\n",
            "Downloading http://yann.lecun.com/exdb/mnist/t10k-labels-idx1-ubyte.gz\n",
            "Downloading http://yann.lecun.com/exdb/mnist/t10k-labels-idx1-ubyte.gz to ./data/MNIST/raw/t10k-labels-idx1-ubyte.gz\n"
          ]
        },
        {
          "name": "stderr",
          "output_type": "stream",
          "text": [
            "100%|██████████| 4542/4542 [00:00<00:00, 3960608.89it/s]\n"
          ]
        },
        {
          "name": "stdout",
          "output_type": "stream",
          "text": [
            "Extracting ./data/MNIST/raw/t10k-labels-idx1-ubyte.gz to ./data/MNIST/raw\n",
            "\n"
          ]
        }
      ],
      "source": [
        "#The dataset is divided in batches to reduce the computation\n",
        "BatchSize = 100\n",
        "\n",
        "#Datasets download\n",
        "TrainingDataset = dsets.MNIST(root = './data', train = True, download = True, transform = transforms.ToTensor())\n",
        "TestDataset = dsets.MNIST(root = './data', train = False, download = True, transform = transforms.ToTensor())\n",
        "\n",
        "#The datasets are converted into a loader\n",
        "TrainLoader = torch.utils.data.DataLoader(dataset = TrainingDataset, shuffle = True, batch_size = BatchSize)\n",
        "TestLoader = torch.utils.data.DataLoader(dataset = TestDataset, shuffle = True, batch_size = BatchSize)"
      ]
    },
    {
      "cell_type": "code",
      "execution_count": 3,
      "metadata": {
        "id": "-3EPEqbjjfAT"
      },
      "outputs": [],
      "source": [
        "#Size of a picture (input) and number of classes (output)\n",
        "ImageSize = 784 \n",
        "SizeClasses = 10 "
      ]
    },
    {
      "cell_type": "code",
      "execution_count": 4,
      "metadata": {
        "id": "u75Xa5VckuTH"
      },
      "outputs": [],
      "source": [
        "#MLP defined with 2 hidden layers of 200 and 100 neurons\n",
        "MyModel = nn.Sequential(nn.Linear(ImageSize, 200),\n",
        "                      nn.ReLU(),\n",
        "                      nn.Linear(200, 100),\n",
        "                      nn.ReLU(),\n",
        "                      nn.Linear(100, SizeClasses),\n",
        "                      nn.LogSoftmax(dim=1))"
      ]
    },
    {
      "cell_type": "code",
      "execution_count": 5,
      "metadata": {
        "id": "JB0qGhy295yc"
      },
      "outputs": [],
      "source": [
        "#Parameters for the training\n",
        "Epochs = 20\n",
        "LearningRate = 0.001\n",
        "#Adam improve the gradient descent convergence\n",
        "Optimizer = torch.optim.Adam(MyModel.parameters(), lr=LearningRate)\n",
        "LossFunction = nn.CrossEntropyLoss()"
      ]
    },
    {
      "cell_type": "code",
      "execution_count": 6,
      "metadata": {
        "colab": {
          "base_uri": "https://localhost:8080/"
        },
        "id": "ru2ZnPTK98p-",
        "outputId": "412fe550-a29d-4fd9-be2a-7073b4d673c3"
      },
      "outputs": [
        {
          "name": "stdout",
          "output_type": "stream",
          "text": [
            "0.34919208832706017\n",
            "0.13460931699723006\n",
            "0.09288180936438342\n",
            "0.06653107033111155\n",
            "0.05216991332980494\n",
            "0.04108454621746205\n",
            "0.031966762927283225\n",
            "0.02607043791426501\n",
            "0.021941911855828947\n",
            "0.01714015686438264\n",
            "0.015966313265331943\n",
            "0.013827226538148048\n",
            "0.011801488179868707\n",
            "0.011473347666105837\n",
            "0.009446584657028629\n",
            "0.008594262287563955\n",
            "0.00810965238068699\n",
            "0.00954967125606951\n",
            "0.008406155091179243\n",
            "0.006376373757501217\n"
          ]
        }
      ],
      "source": [
        "#For each epoch, the model is updated\n",
        "for Epoch in range(Epochs):\n",
        "    Sum = 0\n",
        "    #The dataset is divided in batches\n",
        "    for Iter, (X, y) in enumerate(TrainLoader):\n",
        "        #Picture 28*28 to Vector of size 784\n",
        "        X = X.view(X.shape[0], -1)\n",
        "\n",
        "        #Model prediction\n",
        "        Ypred = MyModel(X)\n",
        "\n",
        "        #Gradient descent\n",
        "        Optimizer.zero_grad()\n",
        "        MyLoss = LossFunction(Ypred,y)\n",
        "        MyLoss.backward()\n",
        "        Optimizer.step()\n",
        "\n",
        "        Sum += MyLoss.item()\n",
        "\n",
        "    #Display the current loss\n",
        "    Sum /= len(TrainLoader)\n",
        "    print(Sum)\n",
        "\n",
        "#The model is finally trained"
      ]
    },
    {
      "cell_type": "code",
      "execution_count": 7,
      "metadata": {
        "id": "YiER-rkCfX5t"
      },
      "outputs": [],
      "source": [
        "#Function to display 5 MNIST pictures\n",
        "def Display5ImagesMNIST(Batch, LabelBatch, Pred):\n",
        "    Fig, Axs = plt.subplots(nrows=1, ncols=3, figsize=(10, 5))\n",
        "    for i in range(3):\n",
        "      Img = Batch[i].squeeze()\n",
        "      label = LabelBatch[i]\n",
        "      pred = Pred[i]\n",
        "      Axs[i].set_title(\"real: \" + str(label.numpy()) + \", pred: \" + str(pred.numpy()))\n",
        "      Axs[i].imshow(Img, cmap=\"gray\")\n",
        "    plt.tight_layout()\n",
        "    plt.show()\n",
        "    return"
      ]
    },
    {
      "cell_type": "code",
      "execution_count": 8,
      "metadata": {
        "id": "Vnn6EwbIdWF9"
      },
      "outputs": [],
      "source": [
        "#Function to test the model\n",
        "def Test(TestLoader, model):\n",
        "  Correct = 0\n",
        "  SizeLoader = len(TestLoader.dataset)\n",
        "  \n",
        "  #No need to compute the gradient descent\n",
        "  with torch.no_grad():\n",
        "    \n",
        "    #Computation of the accuracy \n",
        "    for X, y in TestLoader:\n",
        "        #Picture 28*28 to Vector of size 784\n",
        "        FlattenX = X.view(X.shape[0], -1)\n",
        "        #Model prediction\n",
        "        Ypred = model(FlattenX)\n",
        "        #If the prediciton is equal to the reality\n",
        "        Correct += (Ypred.argmax(1) == y).type(torch.float).sum().item()\n",
        "    Correct /= SizeLoader\n",
        "\n",
        "    #Display accuracy\n",
        "    print(f\"Test Error: \\n Accuracy: {(100*Correct):>0.1f}%\")\n",
        "\n",
        "  #Display 5 pictures\n",
        "  X, y  = next(iter(TestLoader))\n",
        "  FlattenX = X.view(X.shape[0], -1)\n",
        "  Ypred = model(FlattenX)\n",
        "  \n",
        "  Pred = Ypred.argmax(1)\n",
        "  Display5ImagesMNIST(X, y, Pred)"
      ]
    },
    {
      "cell_type": "code",
      "execution_count": 9,
      "metadata": {
        "colab": {
          "base_uri": "https://localhost:8080/",
          "height": 406
        },
        "id": "pW-OuY6S7fVR",
        "outputId": "fcfa012b-5184-4be9-ea20-8c539038a8bb"
      },
      "outputs": [
        {
          "name": "stdout",
          "output_type": "stream",
          "text": [
            "Test Error: \n",
            " Accuracy: 98.0%\n"
          ]
        },
        {
          "data": {
            "image/png": "[encoded data removed]",
            "text/plain": [
              "<Figure size 1000x500 with 3 Axes>"
            ]
          },
          "metadata": {},
          "output_type": "display_data"
        }
      ],
      "source": [
        "#Exuction of the function to test the model\n",
        "Test(TestLoader, MyModel)"
      ]
    }
  ],
  "metadata": {
    "accelerator": "GPU",
    "colab": {
      "provenance": []
    },
    "kernelspec": {
      "display_name": "Python 3",
      "name": "python3"
    }
  },
  "nbformat": 4,
  "nbformat_minor": 0
}
